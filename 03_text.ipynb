{
 "cells": [
  {
   "cell_type": "markdown",
   "metadata": {
    "colab_type": "text",
    "id": "u6_0LE-OFIkp"
   },
   "source": [
    "# Python Strings\n",
    "Strings are very powerful in Python. No other language has a string quite like Python.\n",
    "\n",
    "## String Formatting\n",
    "There are several ways to format a string in Python. Here are three of them:\n",
    "\n",
    "- The % operator, aka the printf operator.\n",
    "- The format string method.\n",
    "- The f-string syntax.\n",
    "\n",
    "All three format options above, represent exactly the same line of text..."
   ]
  },
  {
   "cell_type": "code",
   "execution_count": 1,
   "outputs": [
    {
     "name": "stdout",
     "output_type": "stream",
     "text": [
      "x is 42, y is 3.14, z is \"I like dragons!\"\n",
      "x is 42, y is 3.14, z is \"I like dragons!\"\n",
      "x is 42, y is 3.14, z is \"I like dragons!\"\n"
     ]
    }
   ],
   "source": [
    "x = 42\n",
    "y = 3.14159265359\n",
    "z = \"I like dragons!\"\n",
    "\n",
    "# % Operator - Ugly\n",
    "print('x is %i, y is %.2f, z is \"%s\"' % (x, y, z))\n",
    "\n",
    "# Format Method - Better\n",
    "print('x is {}, y is {:.2f}, z is \"{}\"'.format(x, y, z))\n",
    "\n",
    "# F-string Syntax - Pythonic\n",
    "print(f'x is {x}, y is {y:.2f}, z is \"{z}\"')\n"
   ],
   "metadata": {
    "collapsed": false,
    "ExecuteTime": {
     "end_time": "2023-06-07T14:26:57.325921Z",
     "start_time": "2023-06-07T14:26:57.321585Z"
    }
   }
  },
  {
   "cell_type": "markdown",
   "source": [
    "The f-string syntax is easily the most beautiful of the three, but not because it happens to be the shortest! Its beauty comes from the fact that the structure of the code matches its meaning. Generally speaking, this guide will only focus on Pythonic examples."
   ],
   "metadata": {
    "collapsed": false
   }
  },
  {
   "cell_type": "markdown",
   "source": [
    "\n",
    "## Official String Documentation\n",
    "- [Advanced String Formatting | python.org](https://www.python.org/dev/peps/pep-3101/)\n",
    "- [String Methods | python.org](https://docs.python.org/3/library/string.html)\n",
    "- [Regular Expressions | python.org](https://docs.python.org/3/library/re.html)"
   ],
   "metadata": {
    "collapsed": false
   }
  },
  {
   "cell_type": "code",
   "execution_count": null,
   "outputs": [],
   "source": [],
   "metadata": {
    "collapsed": false
   }
  }
 ],
 "metadata": {
  "colab": {
   "collapsed_sections": [],
   "name": "03_text.ipynb",
   "provenance": []
  },
  "kernelspec": {
   "display_name": "Python 3",
   "language": "python",
   "name": "python3"
  },
  "language_info": {
   "codemirror_mode": {
    "name": "ipython",
    "version": 3
   },
   "file_extension": ".py",
   "mimetype": "text/x-python",
   "name": "python",
   "nbconvert_exporter": "python",
   "pygments_lexer": "ipython3",
   "version": "3.8.0"
  }
 },
 "nbformat": 4,
 "nbformat_minor": 1
}
