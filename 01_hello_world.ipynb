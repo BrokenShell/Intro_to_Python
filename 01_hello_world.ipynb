{
 "cells": [
  {
   "cell_type": "markdown",
   "source": [
    "# Hello World"
   ],
   "metadata": {
    "collapsed": false
   }
  },
  {
   "cell_type": "markdown",
   "metadata": {
    "colab_type": "text",
    "id": "vw6G3xPpa9Me"
   },
   "source": [
    "## Simple Python I/O\n",
    "The most common I/O functions in Python are `input()` and `print()`. These are not the only I/O functions in Python. The Python `input()` function will print a prompt and then wait for text from the user. The function then returns the text. The Python `print()` function will output text to the terminal. It is similar to the `printf()` function in C or `console.log()` in JavaScript."
   ]
  },
  {
   "cell_type": "markdown",
   "metadata": {
    "colab_type": "text",
    "id": "QoWlhHWwbImm"
   },
   "source": [
    "## Terminal Output\n",
    "In Python, almost everything is printable by default, without conversion. Strings, Numbers, Sequences, Booleans, Dictionaries, Sets and many other classes of objects can be printed with no special syntax. Print does not have a return value, we simply call the function. A Class instance can be printed properly iff the Class has a `__str__` and/or `__repr__` method. More on Classes will be found in the Classes notebook. Expressions can be printed directly, iff it resolves to a printable value. Expression Example: `print(2 + 4 * 8)`\n",
    "\n",
    "The following code prints `Hello, Python!` to the terminal."
   ]
  },
  {
   "cell_type": "code",
   "execution_count": 1,
   "metadata": {
    "colab": {
     "base_uri": "https://localhost:8080/",
     "height": 34
    },
    "colab_type": "code",
    "id": "PVu_jDeqbMca",
    "outputId": "dfd26cab-655a-4154-ac86-6a36ca88d423"
   },
   "outputs": [
    {
     "name": "stdout",
     "output_type": "stream",
     "text": [
      "Hello, Python!\n"
     ]
    }
   ],
   "source": [
    "print(\"Hello, Python!\")"
   ]
  },
  {
   "cell_type": "markdown",
   "metadata": {
    "colab_type": "text",
    "id": "3RYUiLfu0TIF"
   },
   "source": [
    "#### Separator Examples:\n",
    "\n",
    "The print function can take an unbounded number of arguments. We can separate these items with the `sep` keyword argument. The `sep` value must be a string. See the examples below..."
   ]
  },
  {
   "cell_type": "code",
   "execution_count": 2,
   "metadata": {
    "colab": {
     "base_uri": "https://localhost:8080/",
     "height": 119
    },
    "colab_type": "code",
    "id": "-TQDTYCP0cJj",
    "outputId": "214ef06e-4ee7-4ed9-f6fa-30206687f9e4"
   },
   "outputs": [
    {
     "name": "stdout",
     "output_type": "stream",
     "text": [
      "Alpha Beta Gamma\n",
      "Alpha, Beta, Gamma\n",
      "Alpha\tBeta\tGamma\n",
      "Alpha\n",
      "Beta\n",
      "Gamma\n"
     ]
    }
   ],
   "source": [
    "print(\"Alpha\", \"Beta\", \"Gamma\")            # By default sep=' '\n",
    "print(\"Alpha\", \"Beta\", \"Gamma\", sep=\", \")  # Comma and space\n",
    "print(\"Alpha\", \"Beta\", \"Gamma\", sep=\"\\t\")  # Tab\n",
    "print(\"Alpha\", \"Beta\", \"Gamma\", sep=\"\\n\")  # New line"
   ]
  },
  {
   "cell_type": "markdown",
   "metadata": {
    "colab_type": "text",
    "id": "OZcbv-8ab0wd"
   },
   "source": [
    "## Terminal Input\n",
    "Input from `input()` is always read\n",
    "as text (even numbers!), more specifically it's a string, aka `str` type.\n",
    "The text from the user becomes the output (return value) of the input function.\n",
    "The return value of any function can be assigned to a variable.\n",
    "\n",
    "The follwing code prints `What's your name? ` and waits for input from the user. Then it stores the user input into the `name` variable as a string."
   ]
  },
  {
   "cell_type": "code",
   "execution_count": 3,
   "metadata": {
    "colab": {
     "base_uri": "https://localhost:8080/",
     "height": 34
    },
    "colab_type": "code",
    "id": "Y9BfybTyayV7",
    "outputId": "da5aadda-7d1e-4995-8c6f-3acc81da2e67"
   },
   "outputs": [
    {
     "name": "stdout",
     "output_type": "stream",
     "text": [
      "What's your name? John Smith\n"
     ]
    }
   ],
   "source": [
    "name = input(\"What's your name? \")"
   ]
  },
  {
   "cell_type": "markdown",
   "metadata": {
    "colab_type": "text",
    "id": "QgRdGcZNeZZ0"
   },
   "source": [
    "The next line of code will print the greeting."
   ]
  },
  {
   "cell_type": "code",
   "execution_count": 4,
   "metadata": {
    "colab": {
     "base_uri": "https://localhost:8080/",
     "height": 34
    },
    "colab_type": "code",
    "id": "tsBBzU8VcTsc",
    "outputId": "11411f3f-99b5-47c1-bdce-56b90744c191"
   },
   "outputs": [
    {
     "name": "stdout",
     "output_type": "stream",
     "text": [
      "Hello, John Smith\n"
     ]
    }
   ],
   "source": [
    "print(\"Hello,\", name)"
   ]
  },
  {
   "cell_type": "code",
   "execution_count": null,
   "metadata": {
    "colab": {},
    "colab_type": "code",
    "id": "PwIA6MYVuuNs"
   },
   "outputs": [],
   "source": []
  }
 ],
 "metadata": {
  "colab": {
   "collapsed_sections": [],
   "name": "01_hello_world.ipynb",
   "provenance": []
  },
  "kernelspec": {
   "display_name": "Python 3",
   "language": "python",
   "name": "python3"
  },
  "language_info": {
   "codemirror_mode": {
    "name": "ipython",
    "version": 3
   },
   "file_extension": ".py",
   "mimetype": "text/x-python",
   "name": "python",
   "nbconvert_exporter": "python",
   "pygments_lexer": "ipython3",
   "version": "3.8.5"
  }
 },
 "nbformat": 4,
 "nbformat_minor": 4
}
