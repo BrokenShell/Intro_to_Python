{
 "cells": [
  {
   "cell_type": "markdown",
   "metadata": {
    "colab_type": "text",
    "id": "RZ_TYENYPO-e"
   },
   "source": [
    "# Introduction to Python\n",
    "\n",
    "This guide is strictly about Python3. It is specifically for use with Python versions: 3.6, 3.7 and 3.8. At the time of this writing 3.8.0 is the newest version of Python.\n",
    "\n",
    "#### Official Python Links\n",
    "- [Download & Install Python | python.org](https://www.python.org/downloads/)\n",
    "- [Beginner's Guide to Python | python.org](https://wiki.python.org/moin/BeginnersGuide)\n",
    "- [Full Python Documentation | python.org](https://www.python.org/doc/)\n",
    "- [Should I use Python2 or Python3? | python.org](https://wiki.python.org/moin/Python2orPython3)\n",
    "- [What's new in Python 3.8 | python.org](https://docs.python.org/3/whatsnew/3.8.html)\n",
    "- [Python FAQs | python.org](https://docs.python.org/faq/)\n",
    "\n",
    "#### Another helpful resource\n",
    "- [Facts and Myths about Python names and values](https://youtu.be/_AEJHKGk9ns)\n",
    "- [Raymond Hettinger | Transforming Code into Beautiful, Idiomatic Python\n",
    "](https://www.youtube.com/watch?v=OSGv2VnC0go&t=204s)\n",
    "\n",
    "Once you have installed Python3 - you may have more than one version of Python on your system. That's fine, DO NOT remove Python2, especially if you're on a Macintosh or Linux system. Python2 may be required by your operating system. In addition, it is not recommended to modify, update or extend your system's Python2 library in any way. Your system can take care of that itself, and it is dangerous to do so yourself. Another option to avoid this problem is to develop Python in a virtual environment. As with most things, there are many strategies - with pros and cons for each."
   ]
  },
  {
   "cell_type": "markdown",
   "metadata": {
    "colab_type": "text",
    "id": "jvAwL7bHo-Sc"
   },
   "source": [
    "## Python Axioms & Terminology"
   ]
  },
  {
   "cell_type": "markdown",
   "metadata": {
    "colab_type": "text",
    "id": "Av9-BN5NQnmQ"
   },
   "source": [
    "### The Zen of Python\n"
   ]
  },
  {
   "cell_type": "code",
   "execution_count": 1,
   "metadata": {
    "colab": {
     "base_uri": "https://localhost:8080/",
     "height": 374
    },
    "colab_type": "code",
    "id": "-pBPdL-ePNd1",
    "outputId": "328353ce-70cc-4944-c5d6-17b79bffa764"
   },
   "outputs": [
    {
     "name": "stdout",
     "output_type": "stream",
     "text": [
      "The Zen of Python, by Tim Peters\n",
      "\n",
      "Beautiful is better than ugly.\n",
      "Explicit is better than implicit.\n",
      "Simple is better than complex.\n",
      "Complex is better than complicated.\n",
      "Flat is better than nested.\n",
      "Sparse is better than dense.\n",
      "Readability counts.\n",
      "Special cases aren't special enough to break the rules.\n",
      "Although practicality beats purity.\n",
      "Errors should never pass silently.\n",
      "Unless explicitly silenced.\n",
      "In the face of ambiguity, refuse the temptation to guess.\n",
      "There should be one-- and preferably only one --obvious way to do it.\n",
      "Although that way may not be obvious at first unless you're Dutch.\n",
      "Now is better than never.\n",
      "Although never is often better than *right* now.\n",
      "If the implementation is hard to explain, it's a bad idea.\n",
      "If the implementation is easy to explain, it may be a good idea.\n",
      "Namespaces are one honking great idea -- let's do more of those!\n"
     ]
    }
   ],
   "source": [
    "import this"
   ]
  },
  {
   "cell_type": "markdown",
   "metadata": {
    "colab_type": "text",
    "id": "XYQdxFC0Q3wR"
   },
   "source": [
    "### Pythonista\n",
    "The Jedi Masters of Python. There is simply no better way to put it. By the end of this guide I hope you will embrace the idea of being a Pythonista, and always use Python for good.\n",
    "\n",
    "### Pythonic\n",
    "Beautiful Python. The belief that Python can be beautiful is more than just the personal opinion of this author. It's a widespread ideal within the greater Python community. An aspiring Pythonista may strive for aesthetically pleasing code. A true Pythonista will not need to try.\n",
    "\n",
    "### Python is a Consenting Adult Language\n",
    "This may sound odd at first. It means that Python trusts the Pythonista implicitly. Not many programming languages are like this, and it can sometimes cause trouble. If you would like to re-define the built-in string class, Python will gladly let you - with a smile.\n",
    "\n",
    "__All of these are ugly in any scope, and dangerous at global scope!__\n",
    "```python\n",
    "# Don't do this!\n",
    "str = \"some string\"\n",
    "int = 42\n",
    "list = [1, 2, 3]\n",
    "tuple = (4, 5, 6)\n",
    "...\n",
    "```\n",
    "\n",
    "The code above may seem innocent enough, but it causes several delayed consequences that break Python. Much of Python is implemented in Python... let that sink in. At the global scope the name `str` is a reference to the string object - if you overwrite it, Python will be fine with it... that is, until you need to use that class later in your code. The expression `str(42)` should produce the string \"42\" from the int 42, but it can't now that the name `str` was overwritten. This general idea is true for all built-in names at the global scope. Don't overwrite Python's guts by accident, learn the built-in names and respect them.\n",
    "\n",
    "_The following code example is totally insane, it can only be the work of a devious Sith Lord. However, one can't help but appreciate the femme fatale beauty of it..._\n",
    "\n",
    "```python\n",
    "# Don't do this!\n",
    "int, str = str, int\n",
    "```\n",
    "\n",
    "### Everything in Python is an Object\n",
    "While this is true, Python is not strictly an object oriented language. Python is a multi-paradigm language and supports many programming styles.\n",
    "\n",
    "### Everything in Python is a Reference\n",
    "This means - everything in Python is a Reference to an Object. This will be fundamentally important on the path to becoming a true Pythonista.\n",
    "\n",
    "### Python is Dynamically Typed\n",
    "This refers to the ability in Python, to reassign a variable to different value types throughout the lifetime of the variable with no warnings, errors or special syntax. Python is Python because Python is dynamic. This is a feature, not a bug. However, the resulting code is not concidered Pythonic."
   ]
  },
  {
   "cell_type": "code",
   "execution_count": 2,
   "metadata": {
    "colab": {
     "base_uri": "https://localhost:8080/",
     "height": 68
    },
    "colab_type": "code",
    "id": "Leo_5RxuQuXK",
    "outputId": "2eb8136d-fb61-41c2-842b-ed111a4191a9"
   },
   "outputs": [
    {
     "name": "stdout",
     "output_type": "stream",
     "text": [
      "42\n",
      "When is a string nothing like a thread?\n",
      "(4+2j)\n"
     ]
    }
   ],
   "source": [
    "my_var = 42\n",
    "print(my_var)\n",
    "\n",
    "my_var = \"When is a string nothing like a thread?\"\n",
    "print(my_var)\n",
    "\n",
    "my_var = 4 + 2j\n",
    "print(my_var)"
   ]
  },
  {
   "cell_type": "markdown",
   "metadata": {
    "colab_type": "text",
    "id": "p0Ll4C9YLIM9"
   },
   "source": [
    "While reusing a variable is technically fine, the example above does so in an ugly way. The objects that `my_var` points to are totally unrelated and nothing is gained by assigning them to the same variable. If it actually made logical scense to reuse the variable, then it wouldn't be so ugly."
   ]
  }
 ],
 "metadata": {
  "colab": {
   "collapsed_sections": [],
   "name": "00_introduction.ipynb",
   "provenance": []
  },
  "kernelspec": {
   "display_name": "Python 3",
   "language": "python",
   "name": "python3"
  },
  "language_info": {
   "codemirror_mode": {
    "name": "ipython",
    "version": 3
   },
   "file_extension": ".py",
   "mimetype": "text/x-python",
   "name": "python",
   "nbconvert_exporter": "python",
   "pygments_lexer": "ipython3",
   "version": "3.8.5"
  }
 },
 "nbformat": 4,
 "nbformat_minor": 4
}
