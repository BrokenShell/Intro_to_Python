{
 "cells": [
  {
   "cell_type": "markdown",
   "metadata": {
    "colab_type": "text",
    "id": "307gGaxPxTvn"
   },
   "source": [
    "# Basic Cython Extension\n",
    "\n",
    "- [Cython | cython.org](https://cython.org/)\n",
    "\n",
    "## First we need to make sure Cython is installed.\n",
    "```\n",
    "$ pip install Cython\n",
    "```"
   ]
  },
  {
   "cell_type": "markdown",
   "metadata": {
    "colab_type": "text",
    "id": "sJM4v9zOgw32"
   },
   "source": [
    "### Create three files:\n",
    "- `KnuthBShuffle.pyx`\n",
    "- `setup.py`\n",
    "- `README.md`"
   ]
  },
  {
   "cell_type": "markdown",
   "metadata": {},
   "source": [
    "```python\n",
    "# File: KnuthBShuffle.pyx\n",
    "from random import randint\n",
    "\n",
    "def shuffle(array):\n",
    "    \"\"\" Knuth B Shuffle Algorithm\n",
    "    Destructive, in-place shuffle.\n",
    "    @param array :: mutable sequence of values.\n",
    "    @return :: None \"\"\"\n",
    "    size = len(array) - 1\n",
    "    for i in reversed(range(size)):\n",
    "        j = randint(i, size)\n",
    "        array[i], array[j] = array[j], array[i]\n",
    "```"
   ]
  },
  {
   "cell_type": "markdown",
   "metadata": {
    "colab_type": "text",
    "id": "7JPjln0Rf1mx"
   },
   "source": [
    "```python\n",
    "# File: setup.py\n",
    "from setuptools import setup, Extension\n",
    "from Cython.Build import cythonize\n",
    "\n",
    "with open(\"README.md\", \"r\") as file:\n",
    "    long_description = file.read()\n",
    "\n",
    "setup(\n",
    "    name=\"KnuthBShuffle\",\n",
    "    ext_modules=cythonize(\n",
    "        Extension(\n",
    "            name=\"KnuthBShuffle\",\n",
    "            sources=[\"KnuthBShuffle.pyx\"],\n",
    "        ),\n",
    "        compiler_directives={\n",
    "            'embedsignature': True,\n",
    "            'language_level': 3,\n",
    "        },\n",
    "    ),\n",
    "    author=\"One Awesome Developer\",\n",
    "    author_email=\"you@yourdomain.com\",\n",
    "    requires=[\"Cython\"],\n",
    "    version=\"0.0.1\",\n",
    "    description=\"Knuth B Shuffle Algorithm\",\n",
    "    long_description=long_description,\n",
    "    long_description_content_type=\"text/markdown\",\n",
    "    classifiers=[\"Development Status :: 1 - Planning\"],\n",
    "    keywords=[\"Shuffle\", \"Knuth B\"],\n",
    "    python_requires='>=3.6',\n",
    ")\n",
    "\n",
    "```"
   ]
  },
  {
   "cell_type": "markdown",
   "metadata": {},
   "source": [
    "```python\n",
    "# File: README.md\n",
    "```\n",
    "```markdown\n",
    "Knuth B Shuffle Algorithm: \n",
    "- Destructive, in-place shuffle.\n",
    "- Reverse Order Random Swap Backwards - a cache friendly shuffle.\n",
    "...\n",
    "```"
   ]
  },
  {
   "cell_type": "markdown",
   "metadata": {
    "colab_type": "text",
    "id": "KS54Tf-BiokT"
   },
   "source": [
    "## Installation & Usage\n",
    "Browse to the directory holding the files. Open a terminal and type the following:\n",
    "```\n",
    "$ pip install .\n",
    "$ python3\n",
    ">>> from KnuthBShuffle import shuffle\n",
    ">>> arr = list(*range(10)\n",
    ">>> shuffle(arr)\n",
    ">>> print(arr)\n",
    "[1, 0, 8, 6, 9, 5, 4, 7, 2, 3]\n",
    ">>>\n",
    ">>> help(shuffle)\n",
    "Help on built-in function shuffle in module KnuthBShuffle:\n",
    "\n",
    "shuffle(...)\n",
    "    shuffle(array)\n",
    "    Knuth B Shuffle Algorithm\n",
    "       Destructive, in-place shuffle.\n",
    "       @param array :: mutable sequence of values.\n",
    "       @return :: None\n",
    "(END)\n",
    "```"
   ]
  }
 ],
 "metadata": {
  "colab": {
   "collapsed_sections": [],
   "name": "18_extensions.ipynb",
   "provenance": []
  },
  "kernelspec": {
   "display_name": "Python 3",
   "language": "python",
   "name": "python3"
  },
  "language_info": {
   "codemirror_mode": {
    "name": "ipython",
    "version": 3
   },
   "file_extension": ".py",
   "mimetype": "text/x-python",
   "name": "python",
   "nbconvert_exporter": "python",
   "pygments_lexer": "ipython3",
   "version": "3.8.0"
  }
 },
 "nbformat": 4,
 "nbformat_minor": 1
}