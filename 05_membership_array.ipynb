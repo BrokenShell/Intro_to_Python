{
 "nbformat": 4,
 "nbformat_minor": 0,
 "metadata": {
  "colab": {
   "name": "05_membership_array.ipynb",
   "provenance": [],
   "collapsed_sections": []
  },
  "kernelspec": {
   "name": "python3",
   "display_name": "Python 3"
  }
 },
 "cells": [
  {
   "cell_type": "markdown",
   "metadata": {
    "id": "HHK0YlWPEili",
    "colab_type": "text"
   },
   "source": [
    "# Python Sets Are Membership Arrays\n",
    "- Sets are homogeneous collections of unique values. \n",
    "- A literal set is defined like a list - except with curly-brackets not square-brackets. \n",
    "- The sorted order of a set is maintained automatically in some languages, in Python however, the set is unordered. If you care about the order of elements - you should use a sequential collection type.\n",
    "- A set can only contain unique hashable values. Duplicates are correctly ignored without error.\n",
    "- Sets support common Set Theory operations like union.\n",
    "- Sets are especially good for membership testing.\n",
    "\n",
    "[Python Set | python.org](https://docs.python.org/3.8/library/stdtypes.html#set-types-set-frozenset)"
   ]
  },
  {
   "cell_type": "code",
   "metadata": {
    "id": "0OfynKlHF-Sv",
    "colab_type": "code",
    "outputId": "62e7c0f2-f8ee-48bf-8db4-87d2333737d8",
    "colab": {
     "base_uri": "https://localhost:8080/",
     "height": 34
    }
   },
   "source": [
    "my_set = {3, 4, 1}\n",
    "print(my_set)"
   ],
   "execution_count": 1,
   "outputs": [
    {
     "output_type": "stream",
     "text": [
      "{1, 3, 4}\n"
     ],
     "name": "stdout"
    }
   ]
  },
  {
   "cell_type": "markdown",
   "metadata": {
    "id": "FnIWjnuGMPRG",
    "colab_type": "text"
   },
   "source": [
    "Adding and removing elements in a set is simple. However, the add method is distinctly not the same as append or insert on a list. While the list allows you to place items at arbitrary positions - the set does not. The set will manage the order of values for you. Due to this sublte difference, it would break polymorphism to name the `add` method `insert` or `append`. Polymorphism will be discussed in the class module.\n",
    "\n",
    "One method that the set and list share is the pop method, and it works exactly the same."
   ]
  },
  {
   "cell_type": "code",
   "metadata": {
    "id": "5sNMeszELzHl",
    "colab_type": "code",
    "outputId": "5299f4e4-6dd6-45d3-e86f-8df33207a0af",
    "colab": {
     "base_uri": "https://localhost:8080/",
     "height": 34
    }
   },
   "source": [
    "my_set.add(2)\n",
    "my_set.remove(1)\n",
    "print(my_set)"
   ],
   "execution_count": 2,
   "outputs": [
    {
     "output_type": "stream",
     "text": [
      "{2, 3, 4}\n"
     ],
     "name": "stdout"
    }
   ]
  },
  {
   "cell_type": "markdown",
   "metadata": {
    "id": "jCWjPqAiPyz2",
    "colab_type": "text"
   },
   "source": [
    "Sets can only contain hashable values. Since lists are not hashable, the following code will raise a TypeError..."
   ]
  },
  {
   "cell_type": "markdown",
   "metadata": {
    "id": "x_ZuKmRAHSET",
    "colab_type": "text"
   },
   "source": [
    "```python\n",
    "# Don't do this\n",
    "\n",
    "list_set = {\n",
    "    [1, 2, 3],\n",
    "    [3, 4, 6],\n",
    "    [3, 2, 1],\n",
    "}\n",
    "```\n",
    "```\n",
    "TypeError: unhashable type: 'list'\n",
    "```"
   ]
  },
  {
   "cell_type": "markdown",
   "metadata": {
    "id": "ghszrwyiQqDK",
    "colab_type": "text"
   },
   "source": [
    "While lists cannot live inside a set, tuples can!"
   ]
  },
  {
   "cell_type": "code",
   "metadata": {
    "id": "Ta3W0ShUHdsc",
    "colab_type": "code",
    "outputId": "82718820-2c5d-478a-ec75-0fb6bba3bd3d",
    "colab": {
     "base_uri": "https://localhost:8080/",
     "height": 34
    }
   },
   "source": [
    "tuple_set = {\n",
    "    (1, 2, 3),\n",
    "    (4, 5, 6),\n",
    "    (9, 8, 7),\n",
    "}\n",
    "print(tuple_set)"
   ],
   "execution_count": 3,
   "outputs": [
    {
     "output_type": "stream",
     "text": [
      "{(4, 5, 6), (9, 8, 7), (1, 2, 3)}\n"
     ],
     "name": "stdout"
    }
   ]
  },
  {
   "cell_type": "markdown",
   "metadata": {
    "id": "s0slpaJ-N2oT",
    "colab_type": "text"
   },
   "source": [
    "Notice that the sorted order of `tuple_list` below, differs from the order of `tuple_set` above. Why might this be?"
   ]
  },
  {
   "cell_type": "code",
   "metadata": {
    "id": "5TJFgsyAIN5G",
    "colab_type": "code",
    "outputId": "8c82c3cb-4a3e-4f49-e56a-26f8e024d9f3",
    "colab": {
     "base_uri": "https://localhost:8080/",
     "height": 34
    }
   },
   "source": [
    "tuple_list = [\n",
    "    (1, 2, 3),\n",
    "    (4, 5, 6),\n",
    "    (9, 8, 7),\n",
    "]\n",
    "print(sorted(tuple_list))"
   ],
   "execution_count": 4,
   "outputs": [
    {
     "output_type": "stream",
     "text": [
      "[(1, 2, 3), (4, 5, 6), (9, 8, 7)]\n"
     ],
     "name": "stdout"
    }
   ]
  },
  {
   "cell_type": "markdown",
   "metadata": {
    "id": "VwL1RApUWA23",
    "colab_type": "text"
   },
   "source": [
    "### Set Theory Operations:\n",
    "Sets have special operations derived from set theory. Python implements these operations as methods on the set object. We've seen this before with string methods.\n",
    "\n",
    "Each of the following methods are non-destructive and will return a new set when called.\n",
    "\n",
    "- Union\n",
    "- Intersection\n",
    "- Difference\n",
    "- Symetric Difference\n"
   ]
  },
  {
   "cell_type": "code",
   "metadata": {
    "id": "93MEgfQ0O5Uo",
    "colab_type": "code",
    "outputId": "d99e33fe-12fb-447b-d359-774ff1f9aee8",
    "colab": {
     "base_uri": "https://localhost:8080/",
     "height": 51
    }
   },
   "source": [
    "some_set = {1, 2, 3}\n",
    "another_set = {3, 4, 5}\n",
    "\n",
    "print(some_set)\n",
    "print(another_set)"
   ],
   "execution_count": 5,
   "outputs": [
    {
     "output_type": "stream",
     "text": [
      "{1, 2, 3}\n",
      "{3, 4, 5}\n"
     ],
     "name": "stdout"
    }
   ]
  },
  {
   "cell_type": "code",
   "metadata": {
    "id": "wlFCuLgmWgFA",
    "colab_type": "code",
    "outputId": "08a8a488-5fa9-45d2-a4fb-6b303abd343f",
    "colab": {
     "base_uri": "https://localhost:8080/",
     "height": 34
    }
   },
   "source": [
    "union_of_sets = some_set.union(another_set)\n",
    "print(union_of_sets)"
   ],
   "execution_count": 6,
   "outputs": [
    {
     "output_type": "stream",
     "text": [
      "{1, 2, 3, 4, 5}\n"
     ],
     "name": "stdout"
    }
   ]
  },
  {
   "cell_type": "code",
   "metadata": {
    "id": "CCOdsAxgWrQ5",
    "colab_type": "code",
    "outputId": "6a0542a3-c78a-45bf-fabd-09c9b8f39616",
    "colab": {
     "base_uri": "https://localhost:8080/",
     "height": 34
    }
   },
   "source": [
    "intersect = some_set.intersection(another_set)\n",
    "print(intersect)"
   ],
   "execution_count": 7,
   "outputs": [
    {
     "output_type": "stream",
     "text": [
      "{3}\n"
     ],
     "name": "stdout"
    }
   ]
  },
  {
   "cell_type": "code",
   "metadata": {
    "id": "tyZZrqjDXTYD",
    "colab_type": "code",
    "outputId": "60eaa38e-e798-4a45-da04-646dec81217e",
    "colab": {
     "base_uri": "https://localhost:8080/",
     "height": 34
    }
   },
   "source": [
    "difference_a = some_set.difference(another_set)\n",
    "print(difference_a)"
   ],
   "execution_count": 8,
   "outputs": [
    {
     "output_type": "stream",
     "text": [
      "{1, 2}\n"
     ],
     "name": "stdout"
    }
   ]
  },
  {
   "cell_type": "code",
   "metadata": {
    "id": "tQ0jwKnzXbYs",
    "colab_type": "code",
    "outputId": "e7288116-7da3-4c32-9970-dc2cd77933b2",
    "colab": {
     "base_uri": "https://localhost:8080/",
     "height": 34
    }
   },
   "source": [
    "difference_b = another_set.difference(some_set)\n",
    "print(difference_b)"
   ],
   "execution_count": 9,
   "outputs": [
    {
     "output_type": "stream",
     "text": [
      "{4, 5}\n"
     ],
     "name": "stdout"
    }
   ]
  },
  {
   "cell_type": "code",
   "metadata": {
    "id": "2yeYLD3YXm-c",
    "colab_type": "code",
    "outputId": "a08c89d4-4fd9-4365-8428-dca2df82b843",
    "colab": {
     "base_uri": "https://localhost:8080/",
     "height": 34
    }
   },
   "source": [
    "sym_dif = some_set.symmetric_difference(another_set)\n",
    "print(sym_dif)"
   ],
   "execution_count": 10,
   "outputs": [
    {
     "output_type": "stream",
     "text": [
      "{1, 2, 4, 5}\n"
     ],
     "name": "stdout"
    }
   ]
  },
  {
   "cell_type": "code",
   "metadata": {
    "id": "bOVOHDRHXsFs",
    "colab_type": "code",
    "outputId": "8f9f5789-8541-4f13-bbf5-c44cfb4f091a",
    "colab": {
     "base_uri": "https://localhost:8080/",
     "height": 51
    }
   },
   "source": [
    "# The original sets are unharmed.\n",
    "print(some_set)\n",
    "print(another_set)"
   ],
   "execution_count": 11,
   "outputs": [
    {
     "output_type": "stream",
     "text": [
      "{1, 2, 3}\n",
      "{3, 4, 5}\n"
     ],
     "name": "stdout"
    }
   ]
  },
  {
   "cell_type": "markdown",
   "metadata": {
    "id": "2M5znDBffBqO",
    "colab_type": "text"
   },
   "source": [
    "### Membership Testing\n",
    "\n",
    "This is one of the super-powers of the set."
   ]
  },
  {
   "cell_type": "code",
   "metadata": {
    "id": "-KO64Hbcf6Rf",
    "colab_type": "code",
    "outputId": "16026845-4faa-4f9b-b17c-bf9f45853756",
    "colab": {
     "base_uri": "https://localhost:8080/",
     "height": 51
    }
   },
   "source": [
    "group = {2, 4, 6, 8, 1}\n",
    "test_a, test_b = 3, 4\n",
    "\n",
    "print(test_a in group)\n",
    "print(test_b in group)"
   ],
   "execution_count": 12,
   "outputs": [
    {
     "output_type": "stream",
     "text": [
      "False\n",
      "True\n"
     ],
     "name": "stdout"
    }
   ]
  },
  {
   "cell_type": "code",
   "metadata": {
    "id": "YHXlvq6AgQU7",
    "colab_type": "code",
    "outputId": "f766d9ca-11ca-456c-ff4e-a7e35ddeebcf",
    "colab": {
     "base_uri": "https://localhost:8080/",
     "height": 102
    }
   },
   "source": [
    "subjects = (1, 2, 3, 4, 5)\n",
    "\n",
    "for value in subjects:\n",
    "    if value in group:\n",
    "        print(f\"{value}: Member\")\n",
    "    else:\n",
    "        print(f\"{value}: Not Member\")\n"
   ],
   "execution_count": 13,
   "outputs": [
    {
     "output_type": "stream",
     "text": [
      "1: Member\n",
      "2: Member\n",
      "3: Not Member\n",
      "4: Member\n",
      "5: Not Member\n"
     ],
     "name": "stdout"
    }
   ]
  }
 ]
}
