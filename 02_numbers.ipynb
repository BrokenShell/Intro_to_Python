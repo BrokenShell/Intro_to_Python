{
 "nbformat": 4,
 "nbformat_minor": 0,
 "metadata": {
  "colab": {
   "name": "02_numbers.ipynb",
   "provenance": [],
   "collapsed_sections": []
  },
  "kernelspec": {
   "name": "python3",
   "language": "python",
   "display_name": "Python 3 (ipykernel)"
  }
 },
 "cells": [
  {
   "cell_type": "markdown",
   "metadata": {
    "id": "GqOP27Nw7Ah0",
    "colab_type": "text"
   },
   "source": [
    "## Python Numbers\n",
    "Python has several built-in types for general programming. It also supports custom types known as Classes. Not all classes are technically Types as in Type Theory, but it is a good way to start thinking about them. A true Pythonista can create their own type and define what math means for that type. Basically, we can invent math. More on this in the classes module.\n",
    "\n",
    "In this section we will focus on the three most common types of numbers in Python:\n",
    "\n",
    "- Integer `int`: Python supports big integers - this is a colossal understatement. Python can handle an integer so big it takes all of your available RAM.\n",
    "\n",
    "- Float `float`: Python supports 64bit floating point approximation of real numbers.\n",
    "\n",
    "- Complex `complex`: Python supports Complex Numbers, like in most engineering fields the letter j is used in Python to distinguish values on the complex plane.\n",
    "\n"
   ]
  },
  {
   "cell_type": "code",
   "metadata": {
    "id": "TQSJgQ1yKGPR",
    "colab_type": "code",
    "colab": {},
    "ExecuteTime": {
     "end_time": "2023-06-07T14:25:27.337959Z",
     "start_time": "2023-06-07T14:25:27.327169Z"
    }
   },
   "source": [
    "my_int: int = 42\n",
    "my_float: float = 3.14159265359\n",
    "my_complex: complex = 2 + 3j\n",
    "\n",
    "print(my_int)\n",
    "print(my_float)\n",
    "print(my_complex)\n"
   ],
   "execution_count": 1,
   "outputs": [
    {
     "name": "stdout",
     "output_type": "stream",
     "text": [
      "42\n",
      "3.14159265359\n",
      "(2+3j)\n"
     ]
    }
   ]
  },
  {
   "cell_type": "markdown",
   "source": [
    "In the above example the colon and type name are optional, Python does not enforce these types! The type hints are for human readers, not Python. Future versions of Python may support strict typing.\n",
    "\n",
    "The code below is effectively the same as above.\n"
   ],
   "metadata": {
    "collapsed": false
   }
  },
  {
   "cell_type": "code",
   "execution_count": 2,
   "outputs": [
    {
     "name": "stdout",
     "output_type": "stream",
     "text": [
      "42\n",
      "3.14159265359\n",
      "(2+3j)\n"
     ]
    }
   ],
   "source": [
    "my_int = 42\n",
    "my_float = 3.14159265359\n",
    "my_complex = 2 + 3j\n",
    "\n",
    "print(my_int)\n",
    "print(my_float)\n",
    "print(my_complex)\n"
   ],
   "metadata": {
    "collapsed": false,
    "ExecuteTime": {
     "end_time": "2023-06-07T14:25:29.354714Z",
     "start_time": "2023-06-07T14:25:29.349730Z"
    }
   }
  },
  {
   "cell_type": "code",
   "execution_count": null,
   "outputs": [],
   "source": [],
   "metadata": {
    "collapsed": false
   }
  }
 ]
}
