{
 "cells": [
  {
   "cell_type": "markdown",
   "metadata": {
    "colab_type": "text",
    "id": "l7kN7PVjZ6C1"
   },
   "source": [
    "# Advanced Class Topics\n",
    "\n",
    "\n",
    "\n",
    "\n"
   ]
  },
  {
   "cell_type": "markdown",
   "metadata": {
    "colab_type": "text",
    "id": "hEdOd-MhKrq0"
   },
   "source": [
    "- [Python's Class Development Toolkit | YouTube.com](https://www.youtube.com/watch?v=HTLu2DFOdTg&t=943s) Raymond Hettinger"
   ]
  },
  {
   "cell_type": "markdown",
   "metadata": {
    "colab_type": "text",
    "id": "LFo2-Uf5GdZp"
   },
   "source": [
    "## Super Function\n",
    "\n",
    "The super function is required when more than one class in a hierarchy has an `__init__()` method. Below `Wizard` inherits from `Player` and they both have an `__init__()` method. To make this work we need to call `super().__init__()` in the child class's `__init__()`, and we should usually do that first. The super call will have the same signature as the `__init__()` of the parent class. See below.\n",
    "\n",
    "\n",
    "- [Super Considered Super! | YouTube.com]() Raymond Hettinger\n"
   ]
  },
  {
   "cell_type": "code",
   "execution_count": 0,
   "metadata": {
    "colab": {
     "base_uri": "https://localhost:8080/",
     "height": 204
    },
    "colab_type": "code",
    "id": "olM823DFGsGw",
    "outputId": "784f2547-9146-454e-ccbc-5e5e6049b633"
   },
   "outputs": [
    {
     "name": "stdout",
     "output_type": "stream",
     "text": [
      "Name: George\n",
      "  Class: Villager\n",
      "  Level: 1\n",
      "  Health: 8\n",
      "\n",
      "Name: Jim Darkmagic\n",
      "  Class: Wizard of Illusion\n",
      "  Level: 10\n",
      "  Health: 80\n",
      "  Mana: 100\n",
      "\n"
     ]
    }
   ],
   "source": [
    "class Player:\n",
    "\n",
    "    def __init__(self, name, level):\n",
    "        self.Name = name\n",
    "        self.Class = \"Villager\"\n",
    "        self.Level = min(max(1, level), 20)  # Min: 1, Max: 20\n",
    "        self.Health = self.Level * 8\n",
    "\n",
    "    def __str__(self):\n",
    "        _fields = (f\"{k}: {v}\" for k, v in self.__dict__.items())\n",
    "        return '\\n  '.join(_fields) + '\\n'\n",
    "\n",
    "\n",
    "class Wizard(Player):\n",
    "\n",
    "    def __init__(self, name, level, school):\n",
    "        super().__init__(name, level)\n",
    "        self.Class = f\"Wizard of {school}\"\n",
    "        self.Mana = self.Level * 10\n",
    "\n",
    "\n",
    "print(Player(\"George\", 1))\n",
    "print(Wizard(\"Jim Darkmagic\", level=10, school=\"Illusion\"))"
   ]
  },
  {
   "cell_type": "markdown",
   "metadata": {
    "colab_type": "text",
    "id": "TNup47GpEs5L"
   },
   "source": [
    "## Meta Classes\n",
    "\n",
    "\n",
    "* [Meta Programming | YouTube.com](https://youtu.be/sPiWg5jSoZI) David Beazley\n",
    "\n",
    "If a class is an object factory, then a meta class is a class factory. Meta Classes are often considered black magic, please use them with caution. Meta classes should never be your first impulse as a solution to solve any given puzzle. Often a simple decorator will be faster, easier and less surprising.\n",
    "\n",
    "Custom meta classes typically inherit from `type` and redefine the `__new__()` method. A meta class is like a class decorator in capability but the meta class allows modifications to take place before the instances are created. Decorators do their magic strictly after the fact. While a decorator can affects any decorated class individually, a meta class at the top level will affect an entire class hierarchy."
   ]
  },
  {
   "cell_type": "code",
   "execution_count": 0,
   "metadata": {
    "colab": {
     "base_uri": "https://localhost:8080/",
     "height": 51
    },
    "colab_type": "code",
    "id": "dqz37X5_MNEl",
    "outputId": "5a6fd610-9207-491e-be66-1a1e9cdadf45"
   },
   "outputs": [
    {
     "name": "stdout",
     "output_type": "stream",
     "text": [
      "A New Foo named Bar!\n",
      "A New Foo named Baz!\n"
     ]
    }
   ],
   "source": [
    "class Foo(type):\n",
    "    def __new__(cls, name, bases, clsdict):\n",
    "        print(f\"A New {cls.__qualname__} named {name}!\")\n",
    "        return super().__new__(cls, name, bases, clsdict)\n",
    "\n",
    "\n",
    "class Bar(metaclass=Foo):\n",
    "    \"\"\" If Foo must be declared as a metaclass `metaclass=Foo`.\n",
    "    This will not work the same if we just inherit from Foo. \"\"\"\n",
    "    pass\n",
    "\n",
    "\n",
    "class Baz(Bar):\n",
    "    \"\"\" Now we can inherit from Bar and get the same behavior. \"\"\"\n",
    "    pass\n",
    "\n",
    "b = Bar()\n",
    "z = Baz()"
   ]
  },
  {
   "cell_type": "markdown",
   "metadata": {
    "colab_type": "text",
    "id": "iLChWJ2fXWKZ"
   },
   "source": [
    "### Structure Example"
   ]
  },
  {
   "cell_type": "code",
   "execution_count": 0,
   "metadata": {
    "colab": {},
    "colab_type": "code",
    "id": "3yPNXQ-jZJWc"
   },
   "outputs": [],
   "source": [
    "from inspect import Parameter, Signature"
   ]
  },
  {
   "cell_type": "code",
   "execution_count": 0,
   "metadata": {
    "colab": {},
    "colab_type": "code",
    "id": "DkyGT-CjLh_F"
   },
   "outputs": [],
   "source": [
    "class StructMeta(type):\n",
    "    def __new__(cls, clsname, bases, clsdict):\n",
    "        clsobj = super().__new__(cls, clsname, bases, clsdict)\n",
    "        sig = cls.make_signature(clsobj._fields)\n",
    "        setattr(clsobj, '__signature__', sig)\n",
    "        return clsobj\n",
    "\n",
    "    @staticmethod\n",
    "    def make_signature(names):\n",
    "        return Signature(\n",
    "            Parameter(name, Parameter.POSITIONAL_OR_KEYWORD) \n",
    "            for name in names)\n",
    "\n",
    "\n",
    "class Structure(metaclass=StructMeta):\n",
    "    _fields = []\n",
    "    def __init__(self, *args, **kwargs):\n",
    "        bound = self.__signature__.bind(*args, **kwargs)\n",
    "        for name, val in bound.arguments.items():\n",
    "            setattr(self, name, val)\n",
    "    \n",
    "    def __str__(self):\n",
    "        out = (f\"{name}: {val}\" for name, val in self.__dict__.items())\n",
    "        return '\\n'.join(out)"
   ]
  },
  {
   "cell_type": "code",
   "execution_count": 0,
   "metadata": {
    "colab": {
     "base_uri": "https://localhost:8080/",
     "height": 34
    },
    "colab_type": "code",
    "id": "ee28yx2GZhD-",
    "outputId": "acfaff74-29f4-4146-c482-5af94a825ecb"
   },
   "outputs": [
    {
     "name": "stdout",
     "output_type": "stream",
     "text": [
      "name: Baz\n"
     ]
    }
   ],
   "source": [
    "class Struct(Structure):\n",
    "    _fields = ['name']\n",
    "\n",
    "\n",
    "s = Struct(\"Baz\")\n",
    "print(s)"
   ]
  },
  {
   "cell_type": "markdown",
   "metadata": {
    "colab_type": "text",
    "id": "p0cyjWqFA2RD"
   },
   "source": [
    "## Dataclasses\n",
    "\n",
    "The dataclass is a class decorator for quickly defining a common type of class without all the boilerplate.\n",
    "\n",
    "- [Dataclasses | YouTube.com](https://youtu.be/T-TwcmT6Rcw?t=110) Raymond Hettinger "
   ]
  },
  {
   "cell_type": "code",
   "execution_count": 0,
   "metadata": {
    "colab": {},
    "colab_type": "code",
    "id": "8YWCuXtmZtHB"
   },
   "outputs": [],
   "source": [
    "from dataclasses import dataclass\n",
    "\n",
    "\n",
    "@dataclass\n",
    "class Color:\n",
    "    hue: int\n",
    "    saturation: float\n",
    "    lightness: float = 0.5\n",
    "    "
   ]
  },
  {
   "cell_type": "code",
   "execution_count": 0,
   "metadata": {
    "colab": {
     "base_uri": "https://localhost:8080/",
     "height": 34
    },
    "colab_type": "code",
    "id": "Sv_EEAQmAfBB",
    "outputId": "c889fe3d-e16c-4a0e-c6ff-b611948ff972"
   },
   "outputs": [
    {
     "name": "stdout",
     "output_type": "stream",
     "text": [
      "Color(hue=240, saturation=0.75, lightness=0.75)\n"
     ]
    }
   ],
   "source": [
    "blue = Color(hue=240, saturation=0.75, lightness=0.75)\n",
    "print(blue)"
   ]
  },
  {
   "cell_type": "code",
   "execution_count": 0,
   "metadata": {
    "colab": {
     "base_uri": "https://localhost:8080/",
     "height": 68
    },
    "colab_type": "code",
    "id": "5Rp0Gs-_AtrM",
    "outputId": "6e169470-38d2-49e5-b561-c69d39413506"
   },
   "outputs": [
    {
     "name": "stdout",
     "output_type": "stream",
     "text": [
      "240\n",
      "0.75\n",
      "0.75\n"
     ]
    }
   ],
   "source": [
    "print(blue.hue)\n",
    "print(blue.saturation)\n",
    "print(blue.lightness)"
   ]
  },
  {
   "cell_type": "code",
   "execution_count": 0,
   "metadata": {
    "colab": {
     "base_uri": "https://localhost:8080/",
     "height": 34
    },
    "colab_type": "code",
    "id": "FCf7GHOEAyyK",
    "outputId": "b6701b37-8f76-4a68-b802-d40d30ad2c2e"
   },
   "outputs": [
    {
     "name": "stdout",
     "output_type": "stream",
     "text": [
      "False\n"
     ]
    }
   ],
   "source": [
    "light_blue = Color(hue=240, saturation=0.75, lightness=0.25)\n",
    "print(light_blue == blue)"
   ]
  },
  {
   "cell_type": "code",
   "execution_count": 0,
   "metadata": {
    "colab": {
     "base_uri": "https://localhost:8080/",
     "height": 34
    },
    "colab_type": "code",
    "id": "9FBNlKMDEA7H",
    "outputId": "4f4da216-e31a-4a4c-98b4-04b9d60019cc"
   },
   "outputs": [
    {
     "name": "stdout",
     "output_type": "stream",
     "text": [
      "True\n"
     ]
    }
   ],
   "source": [
    "blue2 = Color(hue=240, saturation=0.75, lightness=0.75)\n",
    "print(blue == blue2)"
   ]
  },
  {
   "cell_type": "code",
   "execution_count": 0,
   "metadata": {
    "colab": {},
    "colab_type": "code",
    "id": "k3w6G_KOEHcj"
   },
   "outputs": [],
   "source": []
  }
 ],
 "metadata": {
  "colab": {
   "collapsed_sections": [],
   "name": "16_advanced_classes.ipynb",
   "provenance": []
  },
  "kernelspec": {
   "display_name": "Python 3",
   "language": "python",
   "name": "python3"
  },
  "language_info": {
   "codemirror_mode": {
    "name": "ipython",
    "version": 3
   },
   "file_extension": ".py",
   "mimetype": "text/x-python",
   "name": "python",
   "nbconvert_exporter": "python",
   "pygments_lexer": "ipython3",
   "version": "3.8.3"
  }
 },
 "nbformat": 4,
 "nbformat_minor": 1
}