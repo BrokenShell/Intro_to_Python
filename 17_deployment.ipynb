{
 "cells": [
  {
   "cell_type": "markdown",
   "metadata": {
    "colab_type": "text",
    "id": "ahCxeF83xJiK"
   },
   "source": [
    "# Deployment\n",
    "\n",
    "PyPi is the Python Package Index, a public repository for Python packages and modules. PyPi is lovingly known as \"The Cheese Shop\" - referencing Monty Python. The Python programming language was named after Monty Python and you can find many other references in the standard library.\n",
    "\n",
    "Since there's an alternate python distribution called PyPy pronounced \"pie-pie\", PyPi is ususlly pronounced \"pie pee-eye\".\n",
    "\n",
    "\n",
    "- [Python Packaging | python.org](https://packaging.python.org/tutorials/packaging-projects/)\n",
    "- [Classifiers | Pypi.org](https://pypi.org/classifiers/)\n",
    "- [Twine | python.org](https://packaging.python.org/tutorials/packaging-projects/#uploading-the-distribution-archives)\n",
    "- [Pip | python.org](https://pip.pypa.io/en/stable/)\n",
    "- [Python Packaging | YouTube.com](https://youtu.be/4fzAMdLKC5k) Dave Forgac"
   ]
  },
  {
   "cell_type": "markdown",
   "metadata": {},
   "source": [
    "## Module Deployment\n",
    "### Required Files\n",
    "\n",
    "- `setup.py`\n",
    "- `awesome_module.py`\n",
    "- `README.md`"
   ]
  },
  {
   "cell_type": "markdown",
   "metadata": {},
   "source": [
    "#### File: setup.py"
   ]
  },
  {
   "cell_type": "markdown",
   "metadata": {},
   "source": [
    "```python\n",
    "import setuptools\n",
    "\n",
    "with open(\"README.md\", \"r\") as f:\n",
    "    long_description = f.read()\n",
    "\n",
    "setuptools.setup(\n",
    "    name=\"awesome_project\",  # project name on PyPi\n",
    "    py_modules=[\"awesome_module\"],  # import name of each module in the project\n",
    "    author=\"One Awesome Developer\",  # Should be your real name\n",
    "    author_email=\"you@yourdomain.com\",\n",
    "    version=\"0.0.1\",  # This needs to be incremented when you make changes\n",
    "    description=\"Awesome module with an awesome function!\",  # Short Description\n",
    "    long_description=long_description,\n",
    "    long_description_content_type=\"text/markdown\",  # Must match README file type\n",
    "    classifiers=[\n",
    "        \"Development Status :: 1 - Planning\",\n",
    "        \"Programming Language :: Python :: 3.7\",\n",
    "        \"Topic :: Software Development :: Libraries :: Python Modules\",\n",
    "    ],\n",
    "    python_requires='>=3.6',  # This should be the earliest version that works\n",
    ")\n",
    "\n",
    "```"
   ]
  },
  {
   "cell_type": "markdown",
   "metadata": {},
   "source": [
    "Typically when there is only one module in the project, it will have the same name as the project. Here we have two different names to illustrate when to use each. Basically you always install the project name, but import the module or package name."
   ]
  },
  {
   "cell_type": "markdown",
   "metadata": {},
   "source": [
    "#### File: awesome_module.py"
   ]
  },
  {
   "cell_type": "markdown",
   "metadata": {},
   "source": [
    "```python\n",
    "def awesome_function(x):\n",
    "    \"\"\" An amazingly awesome function, aka the identity function \"\"\"\n",
    "    return x\n",
    "\n",
    "```"
   ]
  },
  {
   "cell_type": "markdown",
   "metadata": {},
   "source": [
    "#### File: README.md"
   ]
  },
  {
   "cell_type": "markdown",
   "metadata": {},
   "source": [
    "### ONE AWESOME PROJECT\n",
    "##### Author/Team Name\n",
    "##### Release Date\n",
    "##### Other Meta Data\n",
    "\n",
    "\n",
    "#### Introduction\n",
    "This is one awesome project!\n",
    "\n",
    "\n",
    "#### Installation Proceedure\n",
    "`pip install awesome_project`\n",
    "\n",
    "#### Typical Import & Usage\n",
    "```python\n",
    "import awesome_module as ap\n",
    "\n",
    "print(ap.awesome_function(42))  # Prints 42\n",
    "```\n",
    "\n",
    "#### Table of Contents\n",
    "- awesome_module\n",
    "    - awesome_function\n",
    "\n",
    "\n",
    "#### More Awesome Project Info\n",
    "- Development History\n",
    "- Performance Tests\n",
    "- Other Goodies\n",
    "\n",
    "\n",
    "// End README.md"
   ]
  },
  {
   "cell_type": "markdown",
   "metadata": {},
   "source": [
    "### Local Installation for Testing\n",
    "\n",
    "Open a terminal and navigate to the directory containing your module. Enter the following command. The dot represents the path to the directory containing your module.\n",
    "```\n",
    "pip install .\n",
    "```\n",
    "\n",
    "This alone does not *upload* anything anywhere, it installs your module on your system in the current python environment. Once the project is installed - Python should be able to see your project from anywhere on your system so long as you're in the same environment that was used to install it.\n",
    "\n",
    "Notes:\n",
    "- If you're using a virtual environment, make sure you initialize that environment before attepting to install into it. \n",
    "- You may need to specify `pip3` if you have pip installed to a Python2 instance somewhere on your system. This is a common issue on some Mac systems, but it's only a problem when not using a virtual environment.\n",
    "- Other issues can arise if you have multiple versions of python3 installed - this is not recommended for devs that are new to Python."
   ]
  },
  {
   "cell_type": "markdown",
   "metadata": {
    "colab_type": "text",
    "id": "qPlp3lkPLRQg"
   },
   "source": [
    "### Module Deployment: PyPi\n",
    "\n",
    "After you install and test your module locally, you can build it for the masses. To build and upload to PyPi with setup & twine, enter the following commands. The first line below will build your module. This the modern way to create a cross platform distribution. The second line below will instruct twine to upload your module to PyPi, you will need to have created an account for this to work. [Register at PyPi.org](https://pypi.org/account/register/). Twine will ask for your credentials each time you upload. To work around this see the documentation: [the-pypirc-file](https://docs.python.org/3.3/distutils/packageindex.html#the-pypirc-file)\n",
    "\n",
    "#### Build\n",
    "```shell\n",
    "python3 setup.py sdist bdist_wheel\n",
    "\n",
    "```\n",
    "\n",
    "#### Upload\n",
    "```shell\n",
    "twine upload dist/*\n",
    "\n",
    "```"
   ]
  },
  {
   "cell_type": "markdown",
   "metadata": {},
   "source": [
    "Now that our awesome project is built and deployed to PyPi we can install it pretty much anywhere, even on our friend's computer - assuming they have Python3.\n",
    "\n",
    "#### Installation via Pip\n",
    "`pip install awesome_project`\n",
    "\n",
    "#### Typical REPL Usage\n",
    "```python\n",
    ">>> from awesome_module import awesome_function\n",
    ">>> awesome_function(42)\n",
    "42\n",
    "\n",
    "```\n",
    "\n",
    "#### Typical Library Usage\n",
    "```python\n",
    "import awesome_module as am\n",
    "\n",
    "print(am.awesome_function(42))  # prints 42\n",
    "\n",
    "```\n",
    "\n",
    "\n",
    "...and now for something completely different.\n"
   ]
  },
  {
   "cell_type": "markdown",
   "metadata": {},
   "source": [
    "## Package Deployment"
   ]
  },
  {
   "cell_type": "markdown",
   "metadata": {},
   "source": [
    "Local installation and usage will be the same as above. The differences are one line in the setup.py file, the directory structure of the project and one additional file: `__init__.py`"
   ]
  },
  {
   "cell_type": "markdown",
   "metadata": {},
   "source": [
    "### Required Files\n",
    "\n",
    "- `setup.py` Installation Script\n",
    "- `/awesome_package/`\n",
    "    - `__init__.py`\n",
    "    - `awesome_module.py`\n",
    "- `README.md`"
   ]
  },
  {
   "cell_type": "markdown",
   "metadata": {},
   "source": [
    "#### File: setup.py"
   ]
  },
  {
   "cell_type": "markdown",
   "metadata": {},
   "source": [
    "```python\n",
    "import setuptools\n",
    "\n",
    "\n",
    "with open(\"README.md\", \"r\") as f:\n",
    "    long_description = f.read()\n",
    "\n",
    "setuptools.setup(\n",
    "    name=\"awesome_project\",  # project name on PyPi\n",
    "    packages=[\"awesome_package\"],  # import name of each package in the project\n",
    "    author=\"One Awesome Developer\",  # Should be your real name\n",
    "    author_email=\"you@yourdomain.com\",\n",
    "    version=\"0.0.1\",  # This needs to be incremented when you make changes\n",
    "    description=\"Awesome module with an awesome function!\",  # Short Description\n",
    "    long_description=long_description,\n",
    "    long_description_content_type=\"text/markdown\",  # Should match your README file type\n",
    "    classifiers=[\n",
    "        \"Development Status :: 1 - Planning\",\n",
    "        \"Programming Language :: Python :: 3.7\",\n",
    "        \"Topic :: Software Development :: Libraries :: Python Modules\",\n",
    "    ],\n",
    "    python_requires='>=3.6',  # This should be the earliest version that works\n",
    ")\n",
    "\n",
    "```"
   ]
  },
  {
   "cell_type": "markdown",
   "metadata": {},
   "source": [
    "#### Directory: awesome_package"
   ]
  },
  {
   "cell_type": "markdown",
   "metadata": {},
   "source": [
    "##### File: __init__.py"
   ]
  },
  {
   "cell_type": "markdown",
   "metadata": {},
   "source": [
    "This file indicates that the directory is a Python Package, not just a common directory.\n",
    "\n",
    "Typically the `__init__.py` file is an empty file, however any arbitrary python code can be added. Additional code herein will run each time the package is imported. Often code is added to collapse the package namespace for convienience, like so:"
   ]
  },
  {
   "cell_type": "markdown",
   "metadata": {},
   "source": [
    "```python\n",
    "from awesome_package.awesome_module import awesome_function\n",
    "\n",
    "```"
   ]
  },
  {
   "cell_type": "markdown",
   "metadata": {},
   "source": [
    "This puts the function name `awesome_function` at the top of the package namespace. \n",
    "\n",
    "This lets our users access our function like this: (init file with import)\n",
    "> `awesome_package.awesome_function`\n",
    "\n",
    "Rather than this: (blank init file)\n",
    "> `awesome_package.awesome_module.awesome_function`\n",
    "\n",
    "This technique is only recommended when you have a simple package structure with relatively few named objects. Otherwise it can make your package seem cluttered."
   ]
  },
  {
   "cell_type": "markdown",
   "metadata": {},
   "source": [
    "##### File: awesome_module.py\n",
    "\n",
    "```python\n",
    "\n",
    "def awesome_function(x):\n",
    "    \"\"\" An amazingly awesome function, aka the identity function \"\"\"\n",
    "    return x\n",
    "\n",
    "```"
   ]
  },
  {
   "cell_type": "markdown",
   "metadata": {},
   "source": [
    "#### File: README.md"
   ]
  },
  {
   "cell_type": "markdown",
   "metadata": {},
   "source": [
    "### ONE AWESOME PROJECT\n",
    "##### Author/Team Name\n",
    "##### Release Date\n",
    "##### Other Meta Data\n",
    "\n",
    "\n",
    "#### Introduction\n",
    "This is one awesome project!\n",
    "\n",
    "\n",
    "#### Installation Proceedure\n",
    "`pip install awesome_project`\n",
    "\n",
    "\n",
    "#### Typical Import & Usage\n",
    "```python\n",
    "import awesome_package as ap\n",
    "\n",
    "print(ap.awesome_function(42))  # Prints 42\n",
    "```\n",
    "\n",
    "\n",
    "#### Table of Contents\n",
    "- awesome_package\n",
    "    - awesome_module\n",
    "        - awesome_function\n",
    "\n",
    "\n",
    "#### More Awesome Project Info\n",
    "- Development History\n",
    "- Performance Tests\n",
    "- Other Goodies\n",
    "\n",
    "\n",
    "// End README.md"
   ]
  }
 ],
 "metadata": {
  "colab": {
   "collapsed_sections": [],
   "name": "17_deployment.ipynb",
   "provenance": []
  },
  "kernelspec": {
   "display_name": "Python 3",
   "language": "python",
   "name": "python3"
  },
  "language_info": {
   "codemirror_mode": {
    "name": "ipython",
    "version": 3
   },
   "file_extension": ".py",
   "mimetype": "text/x-python",
   "name": "python",
   "nbconvert_exporter": "python",
   "pygments_lexer": "ipython3",
   "version": "3.8.0"
  }
 },
 "nbformat": 4,
 "nbformat_minor": 1
}