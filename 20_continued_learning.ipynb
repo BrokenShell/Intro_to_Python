{
 "cells": [
  {
   "cell_type": "markdown",
   "metadata": {
    "colab_type": "text",
    "id": "9JneeY7CyY87"
   },
   "source": [
    "# Continued Learning\n",
    "\n"
   ]
  },
  {
   "cell_type": "markdown",
   "metadata": {
    "colab_type": "text",
    "id": "qMB1R2jfKpzv"
   },
   "source": [
    "## Conference Videos\n",
    "- [PyCon | YouTube.com](https://www.youtube.com/channel/UCxs2IIVXaEHHA4BtTiWZ2mQ/videos)\n",
    "- [PyData | YouTube.com](https://www.youtube.com/user/PyDataTV/videos)\n"
   ]
  },
  {
   "cell_type": "markdown",
   "metadata": {
    "colab_type": "text",
    "id": "JSTdJvPoKpSS"
   },
   "source": [
    "## Python Guru Videos\n",
    "- [Removing Python's GIL: The Gilectomy](https://youtu.be/P3AyI_u66Bw) Larry Hastings\n",
    "- [The Gilectomy How's It Going](https://youtu.be/pLqv11ScGsQ) Larry Hastings\n",
    "- [The Mental Game of Python | YouTube.com](https://youtu.be/UANN2Eu6ZnM) Raymond Hettinger\n",
    "- [Learning From Games and Puzzles](https://www.youtube.com/watch?v=lOWeCyOvRGk) Raymond Hettinger\n",
    "- [Lambda Calculus | YouTube.com](https://youtu.be/pkCLMl0e_0k) David Beazley \n",
    "- [The Fun of Reinvention | YouTube.com](https://youtu.be/js_0wjzuMfc) David Beazely"
   ]
  }
 ],
 "metadata": {
  "colab": {
   "collapsed_sections": [],
   "name": "20_continued_learning.ipynb",
   "provenance": []
  },
  "kernelspec": {
   "display_name": "Python 3",
   "language": "python",
   "name": "python3"
  },
  "language_info": {
   "codemirror_mode": {
    "name": "ipython",
    "version": 3
   },
   "file_extension": ".py",
   "mimetype": "text/x-python",
   "name": "python",
   "nbconvert_exporter": "python",
   "pygments_lexer": "ipython3",
   "version": "3.8.0"
  }
 },
 "nbformat": 4,
 "nbformat_minor": 1
}