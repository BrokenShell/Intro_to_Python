{
 "nbformat": 4,
 "nbformat_minor": 0,
 "metadata": {
  "colab": {
   "name": "11_deep_copy.ipynb",
   "provenance": [],
   "collapsed_sections": []
  },
  "kernelspec": {
   "name": "python3",
   "display_name": "Python 3"
  }
 },
 "cells": [
  {
   "cell_type": "markdown",
   "metadata": {
    "id": "hAu1mY7yr4Lc",
    "colab_type": "text"
   },
   "source": [
    "# Deep vs Shallow Copy\n",
    "\n",
    "\n",
    "- [Facts and Myths about Python | YouTube.com](https://youtu.be/_AEJHKGk9ns) Ned Batchelder"
   ]
  },
  {
   "cell_type": "code",
   "metadata": {
    "id": "oL1fAAq1ryp8",
    "colab_type": "code",
    "colab": {}
   },
   "source": [
    "from copy import deepcopy"
   ],
   "execution_count": 0,
   "outputs": []
  },
  {
   "cell_type": "code",
   "metadata": {
    "id": "43IeEqFN_WZk",
    "colab_type": "code",
    "outputId": "48e62a2a-7d24-4fb3-881b-9e9f1f39a032",
    "colab": {
     "base_uri": "https://localhost:8080/",
     "height": 34
    }
   },
   "source": [
    "a = []\n",
    "b = []\n",
    "c = []\n",
    "\n",
    "some_list = [a, b, c]\n",
    "some_other_list = some_list  # Shallow Copy\n",
    "a.append(42)\n",
    "print(some_other_list)"
   ],
   "execution_count": 0,
   "outputs": [
    {
     "output_type": "stream",
     "text": [
      "[[42], [], []]\n"
     ],
     "name": "stdout"
    }
   ]
  },
  {
   "cell_type": "code",
   "metadata": {
    "id": "oTq71BQz_f_m",
    "colab_type": "code",
    "outputId": "2c697200-c83d-409b-daaa-cb8657566bf5",
    "colab": {
     "base_uri": "https://localhost:8080/",
     "height": 34
    }
   },
   "source": [
    "a = []\n",
    "b = []\n",
    "c = []\n",
    "\n",
    "some_list = [a, b, c]\n",
    "some_other_list = deepcopy(some_list)  # Deep Copy\n",
    "a.append(42)\n",
    "print(some_other_list)"
   ],
   "execution_count": 0,
   "outputs": [
    {
     "output_type": "stream",
     "text": [
      "[[], [], []]\n"
     ],
     "name": "stdout"
    }
   ]
  },
  {
   "cell_type": "code",
   "metadata": {
    "id": "CYxgldJ2AQpH",
    "colab_type": "code",
    "colab": {}
   },
   "source": [],
   "execution_count": 0,
   "outputs": []
  }
 ]
}
